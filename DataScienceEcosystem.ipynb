{
 "cells": [
  {
   "cell_type": "markdown",
   "id": "abe740e9-9f42-4b29-bc55-447a864fa098",
   "metadata": {},
   "source": [
    "# Data Science Tools and Ecosystem"
   ]
  },
  {
   "cell_type": "markdown",
   "id": "e347fe28-623c-439e-9b9b-20c4b8b7e278",
   "metadata": {},
   "source": [
    "## In this notebook, Data Science Tools and Ecosystem are summarized."
   ]
  },
  {
   "cell_type": "markdown",
   "id": "5a957b20-542b-4b96-ace1-cedd980732f0",
   "metadata": {},
   "source": [
    "**Objectives:**\n",
    "\n",
    "- List popular languages for Data Science.\n",
    "- Identify commonly used libraries in Data Science.\n",
    "- Explain basic arithmetic expressions in Python.\n",
    "\n"
   ]
  },
  {
   "cell_type": "markdown",
   "id": "0acc3397-cea0-4a00-aefb-8550428a9b4d",
   "metadata": {},
   "source": [
    "## Some of the popular languages that Data Scientists use are:"
   ]
  },
  {
   "cell_type": "markdown",
   "id": "8b18c669-e031-474c-8f42-81e4f4526fe6",
   "metadata": {},
   "source": [
    "1. Python\n",
    "2. R\n",
    "3. SQL\n",
    "4. Java\n",
    "5. Julia\n"
   ]
  },
  {
   "cell_type": "markdown",
   "id": "87291983-d070-4c62-ab78-ca9ee29ad082",
   "metadata": {},
   "source": [
    "## Some of the commonly used libraries used by Data Scientists include:"
   ]
  },
  {
   "cell_type": "markdown",
   "id": "a244f995-85c5-4862-9f59-d90f2a01ef94",
   "metadata": {},
   "source": [
    "1. Pandas\n",
    "2. NumPy\n",
    "3. Matplotlib\n",
    "4. Seaborn\n",
    "5. TensorFlow\n",
    "6. Keras\n",
    "7. PyTorch"
   ]
  },
  {
   "cell_type": "markdown",
   "id": "184b6056-3ca8-4fbb-bcdd-df0d5095dde0",
   "metadata": {},
   "source": [
    "| Data Science Tools           |\n",
    "|------------------------------|\n",
    "| Jupyter Notebook             |\n",
    "| RStudio                      |\n",
    "| Apache Zeppelin              |\n"
   ]
  },
  {
   "cell_type": "markdown",
   "id": "603c1911-28ba-40d2-98ac-b503bd06e4c3",
   "metadata": {},
   "source": [
    "### Below are a few examples of evaluating arithmetic expressions in Python\n"
   ]
  },
  {
   "cell_type": "code",
   "execution_count": 1,
   "id": "01d1e9d0-abc6-437a-95d5-94f967a00234",
   "metadata": {},
   "outputs": [
    {
     "data": {
      "text/plain": [
       "17"
      ]
     },
     "execution_count": 1,
     "metadata": {},
     "output_type": "execute_result"
    }
   ],
   "source": [
    "#This a simple arithmetic expression to multiply then add integers\n",
    "(3*4)+5"
   ]
  },
  {
   "cell_type": "code",
   "execution_count": 2,
   "id": "de33c67c-2edb-4c3a-9385-cf1ec21ca9cf",
   "metadata": {},
   "outputs": [
    {
     "name": "stdout",
     "output_type": "stream",
     "text": [
      "3.3333333333333335\n"
     ]
    }
   ],
   "source": [
    "# This will convert 200 minutes to hours by dividing by 60\n",
    "minutes = 200\n",
    "hours = minutes / 60\n",
    "print(hours)\n"
   ]
  },
  {
   "cell_type": "markdown",
   "id": "4b4b380c-e90d-4e60-9aab-1353892c3414",
   "metadata": {},
   "source": [
    "## Author\n",
    "\n",
    "Mystica J\n"
   ]
  },
  {
   "cell_type": "code",
   "execution_count": null,
   "id": "3fb2b666-5bd1-4d89-ab33-4c355fbcbfd7",
   "metadata": {},
   "outputs": [],
   "source": []
  }
 ],
 "metadata": {
  "kernelspec": {
   "display_name": "Python 3 (ipykernel)",
   "language": "python",
   "name": "python3"
  },
  "language_info": {
   "codemirror_mode": {
    "name": "ipython",
    "version": 3
   },
   "file_extension": ".py",
   "mimetype": "text/x-python",
   "name": "python",
   "nbconvert_exporter": "python",
   "pygments_lexer": "ipython3",
   "version": "3.11.7"
  }
 },
 "nbformat": 4,
 "nbformat_minor": 5
}
